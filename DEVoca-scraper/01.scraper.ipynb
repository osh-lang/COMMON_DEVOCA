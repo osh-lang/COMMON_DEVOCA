{
 "cells": [
  {
   "cell_type": "markdown",
   "metadata": {},
   "source": [
    "# DEVoca-scraper\n",
    "\n",
    "## 방법\n",
    "\n",
    "- 위키 백과의 [Glossary of computer science](https://en.wikipedia.org/wiki/Glossary_of_computer_science)에 나오는 단어와 설명 스크래핑.\n",
    "\n",
    "- 해당 페이지는 각 알파벳('A', 'B', 'C'...) 별로 **단어 목록**이 `<dl class=\"glossary\">` 태그로 감싸져있음.\n",
    "- 단어 목록은 `<dt class=\"glossary\">` 태그 안의 **단어**와 `<dd class=\"glossary\">` 태그의 **단어 설명**으로 이루어짐.\n",
    "\n",
    "    ![](./glossary1.png)"
   ]
  },
  {
   "cell_type": "code",
   "execution_count": 1,
   "metadata": {},
   "outputs": [],
   "source": [
    "import json\n",
    "import re\n",
    "import requests\n",
    "from bs4 import BeautifulSoup as bs\n",
    "from bs4 import Comment\n",
    "from pprint import pprint"
   ]
  },
  {
   "cell_type": "code",
   "execution_count": 2,
   "metadata": {},
   "outputs": [
    {
     "name": "stdout",
     "output_type": "stream",
     "text": [
      "<Response [200]>\n"
     ]
    }
   ],
   "source": [
    "URL = 'https://en.wikipedia.org/wiki/Glossary_of_computer_science'\n",
    "page = requests.get(URL)\n",
    "print(page)"
   ]
  },
  {
   "cell_type": "code",
   "execution_count": 3,
   "metadata": {},
   "outputs": [],
   "source": [
    "soup = bs(page.text, \"html.parser\")"
   ]
  },
  {
   "cell_type": "code",
   "execution_count": 4,
   "metadata": {},
   "outputs": [
    {
     "name": "stdout",
     "output_type": "stream",
     "text": [
      "296\n"
     ]
    }
   ],
   "source": [
    "dls = soup.find_all(\"dt\", class_=\"glossary\")\n",
    "print(len(dls))\n",
    "# dls"
   ]
  },
  {
   "cell_type": "code",
   "execution_count": 16,
   "metadata": {},
   "outputs": [
    {
     "name": "stdout",
     "output_type": "stream",
     "text": [
      "[{'word_name_en': 'abstract data type (ADT)',\n",
      "  'word_link': 'https://en.wikipedia.org/wiki/Abstract_data_type',\n",
      "  'word_def': 'A mathematical model for data types in which a data type is '\n",
      "              'defined by its behavior (semantics) from the point of view of a '\n",
      "              'user of the data, specifically in terms of possible values, '\n",
      "              'possible operations on data of this type, and the behavior of '\n",
      "              'these operations. This contrasts with data structures, which '\n",
      "              'are concrete representations of data from the point of view of '\n",
      "              'an implementer rather than a user.'},\n",
      " {'word_name_en': 'abstract method',\n",
      "  'word_link': 'https://en.wikipedia.org/wiki/Abstract_method',\n",
      "  'word_def': 'One with only a signature and no implementation body. It is '\n",
      "              'often used to specify that a subclass must provide an '\n",
      "              'implementation of the method. Abstract methods are used to '\n",
      "              'specify interfaces in some computer languages.'},\n",
      " {'word_name_en': 'abstraction',\n",
      "  'word_link': 'https://en.wikipedia.org/wiki/Abstraction_(software_engineering)',\n",
      "  'word_def': '1.\\xa0\\xa0In software engineering and computer science, the '\n",
      "              'process of removing physical, spatial, or temporal details or '\n",
      "              'attributes in the study of objects or systems in order to more '\n",
      "              'closely attend to other details of interest; it is also very '\n",
      "              'similar in nature to the process of generalization.'}]\n"
     ]
    }
   ],
   "source": [
    "word_data = []\n",
    "\n",
    "for word_def in dls:\n",
    "    new_word = {}\n",
    "\n",
    "    # 단어\n",
    "    new_word['word_name_en'] = word_def.text\n",
    "    if word_def.a != None:\n",
    "        new_word['word_link'] = 'https://en.wikipedia.org' + word_def.a['href']\n",
    "    else:\n",
    "        new_word['word_link'] = ''\n",
    "\n",
    "    # 설명\n",
    "    word_exps = []\n",
    "    for sibling in word_def.next_sibling.next_siblings:\n",
    "        if sibling.name != 'dd':\n",
    "            break\n",
    "        if sibling == '\\n':\n",
    "            continue\n",
    "\n",
    "        # HTML 주석이면 스킵\n",
    "        if isinstance(sibling, Comment):\n",
    "            continue\n",
    "\n",
    "        # 리스트는 ul, ol 구분 없이 불릿 붙이기\n",
    "        for li in sibling('li'):\n",
    "            if li.contents[0] != ' * ':\n",
    "                li.insert(0, ' * ')\n",
    "\n",
    "        # latex 수식이 이미지로 나오는데, 사용하기 어려우니 일단 제거\n",
    "        math_eqs = sibling.find_all('span', class_='mwe-math-element')\n",
    "        if math_eqs != None:\n",
    "            for eq in math_eqs:\n",
    "                eq.clear()\n",
    "\n",
    "        # 끝에 붙는 '\\n' 제거\n",
    "        sibling_text = sibling.text.rstrip()\n",
    "\n",
    "        # 두 줄 띄어진 것 한 줄로 변경\n",
    "        sibling_text = sibling_text.replace('\\n\\n', '\\n')\n",
    "\n",
    "        # 한 줄 데이터 모으기\n",
    "        word_exps.append(sibling_text)\n",
    "\n",
    "    # 한 줄 데이터 모은 것 합쳐서 단어 정의로 저장\n",
    "    new_word['word_def'] = re.sub('\\[\\d+\\]', '', ' '.join(word_exps))\n",
    "\n",
    "    # 정의 설명 없는 단어는 스킵\n",
    "    if new_word['word_def'] == '':\n",
    "        continue\n",
    "\n",
    "    word_data.append(new_word)\n",
    "\n",
    "pprint(word_data[:3], sort_dicts=False)\n",
    "\n",
    "with open(\"word_wiki.json\", \"w\", encoding=\"utf-8\") as f:\n",
    "    json.dump(word_data, f, indent=2)"
   ]
  }
 ],
 "metadata": {
  "kernelspec": {
   "display_name": "venv",
   "language": "python",
   "name": "python3"
  },
  "language_info": {
   "codemirror_mode": {
    "name": "ipython",
    "version": 3
   },
   "file_extension": ".py",
   "mimetype": "text/x-python",
   "name": "python",
   "nbconvert_exporter": "python",
   "pygments_lexer": "ipython3",
   "version": "3.10.12"
  }
 },
 "nbformat": 4,
 "nbformat_minor": 2
}
