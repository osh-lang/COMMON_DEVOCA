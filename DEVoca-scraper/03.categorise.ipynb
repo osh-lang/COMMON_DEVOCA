{
 "cells": [
  {
   "cell_type": "code",
   "execution_count": 68,
   "metadata": {},
   "outputs": [],
   "source": [
    "import json\n",
    "import re\n",
    "\n",
    "from pprint import pprint\n",
    "from tqdm import tqdm"
   ]
  },
  {
   "cell_type": "code",
   "execution_count": 81,
   "metadata": {},
   "outputs": [
    {
     "name": "stderr",
     "output_type": "stream",
     "text": [
      "100%|██████████| 232/232 [00:00<00:00, 1228634.51it/s]"
     ]
    },
    {
     "name": "stdout",
     "output_type": "stream",
     "text": [
      "232\n"
     ]
    },
    {
     "name": "stderr",
     "output_type": "stream",
     "text": [
      "\n"
     ]
    }
   ],
   "source": [
    "word_data = {}\n",
    "with open('02.word_translated_link.json', 'r') as f:\n",
    "    data = json.load(f)\n",
    "\n",
    "    for d in tqdm(data):\n",
    "        word_data[d['word_name_en']] = d\n",
    "    \n",
    "    print(len(word_data))"
   ]
  },
  {
   "cell_type": "code",
   "execution_count": 82,
   "metadata": {},
   "outputs": [
    {
     "name": "stderr",
     "output_type": "stream",
     "text": [
      "100%|██████████| 231/231 [00:00<00:00, 127133.48it/s]\n"
     ]
    }
   ],
   "source": [
    "with open('word_categorised.txt', 'r') as f:\n",
    "    for li in tqdm(f.readlines()):\n",
    "        word_pattern = r'([\\w ()\\-,]+)(\\: )'\n",
    "        m = re.match(word_pattern, li)\n",
    "        word = m.group(1)\n",
    "\n",
    "        li = re.sub(word_pattern, \"\", li)\n",
    "\n",
    "        category_pattern = r'((?!=\\#)\\w+)+'\n",
    "        m = re.findall(category_pattern, li)\n",
    "\n",
    "        word_data[word]['wordCategory'] = m"
   ]
  },
  {
   "cell_type": "code",
   "execution_count": 83,
   "metadata": {},
   "outputs": [],
   "source": [
    "with open('03.word_translated_link_categorised.json', 'w') as f:\n",
    "    json.dump(list(word_data.values()), f, \n",
    "              ensure_ascii=False, \n",
    "              indent=2)"
   ]
  }
 ],
 "metadata": {
  "kernelspec": {
   "display_name": ".venv",
   "language": "python",
   "name": "python3"
  },
  "language_info": {
   "codemirror_mode": {
    "name": "ipython",
    "version": 3
   },
   "file_extension": ".py",
   "mimetype": "text/x-python",
   "name": "python",
   "nbconvert_exporter": "python",
   "pygments_lexer": "ipython3",
   "version": "3.12.1"
  }
 },
 "nbformat": 4,
 "nbformat_minor": 2
}
