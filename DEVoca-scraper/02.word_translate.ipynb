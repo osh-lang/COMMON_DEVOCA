{
 "cells": [
  {
   "cell_type": "markdown",
   "metadata": {},
   "source": [
    "# DEVoca-scraper: 단어 번역\n",
    "\n",
    "- 스크래핑 한 단어와 설명을 [인공지능 번역 API](https://www.deepl.com/docs-api)를 활용해 한국어로 번역"
   ]
  },
  {
   "cell_type": "code",
   "execution_count": 3,
   "metadata": {},
   "outputs": [
    {
     "data": {
      "text/plain": [
       "True"
      ]
     },
     "execution_count": 13,
     "metadata": {},
     "output_type": "execute_result"
    }
   ],
   "source": [
    "import json\n",
    "import os\n",
    "import requests\n",
    "from dotenv import load_dotenv\n",
    "from pprint import pprint\n",
    "\n",
    "load_dotenv()"
   ]
  },
  {
   "cell_type": "code",
   "execution_count": 2,
   "metadata": {},
   "outputs": [],
   "source": [
    "URL = 'https://api-free.deepl.com/v2/translate'\n"
   ]
  },
  {
   "cell_type": "code",
   "execution_count": 8,
   "metadata": {},
   "outputs": [
    {
     "data": {
      "text/plain": [
       "[{'word_name_en': 'abstract data type (ADT)',\n",
       "  'word_def': 'A mathematical model for data types in which a data type is defined by its behavior (semantics) from the point of view of a user of the data, specifically in terms of possible values, possible operations on data of this type, and the behavior of these operations. This contrasts with data structures, which are concrete representations of data from the point of view of an implementer rather than a user.'},\n",
       " {'word_name_en': 'abstract method',\n",
       "  'word_def': 'One with only a signature and no implementation body. It is often used to specify that a subclass must provide an implementation of the method. Abstract methods are used to specify interfaces in some computer languages.'},\n",
       " {'word_name_en': 'abstraction',\n",
       "  'word_def': '1.\\xa0\\xa0In software engineering and computer science, the process of removing physical, spatial, or temporal details or attributes in the study of objects or systems in order to more closely attend to other details of interest; it is also very similar in nature to the process of generalization.'}]"
      ]
     },
     "execution_count": 8,
     "metadata": {},
     "output_type": "execute_result"
    }
   ],
   "source": [
    "word_data = []\n",
    "\n",
    "with open('word_wiki.json', 'r', encoding='utf-8') as f:\n",
    "    word_data = json.load(f)\n",
    "\n",
    "word_data[:3]"
   ]
  },
  {
   "cell_type": "markdown",
   "metadata": {},
   "source": [
    "- 요청 문서\n",
    "  - https://www.deepl.com/ko/docs-api/translate-text/translate-text"
   ]
  },
  {
   "cell_type": "code",
   "execution_count": 4,
   "metadata": {},
   "outputs": [],
   "source": [
    "def req_deepl(texts):\n",
    "    response = requests.post(\n",
    "        url=URL,\n",
    "        headers={\n",
    "            \"Authorization\": f\"DeepL-Auth-Key {os.getenv('DEEPL_API_KEY')}\",\n",
    "        },\n",
    "        data={\n",
    "            \"text\": texts,\n",
    "            \"source_lang\": \"EN\",\n",
    "            \"target_lang\": \"KO\",\n",
    "            \"context\": \"Translating some computer science keywords and their definitions from English to Korean.\"\n",
    "        }\n",
    "    )\n",
    "\n",
    "    # pprint(response.json(), sort_dicts=False)\n",
    "    return response.json()['translations']"
   ]
  },
  {
   "cell_type": "code",
   "execution_count": 24,
   "metadata": {},
   "outputs": [
    {
     "name": "stdout",
     "output_type": "stream",
     "text": [
      "{'translations': [{'detected_source_language': 'EN',\n",
      "                   'text': '멀티태스킹 컴퓨터 운영 체제에서 데몬(/ˈdiːmən/ 또는 /ˈdeɪmən/)은 대화형 '\n",
      "                           '사용자의 직접적인 제어를 받지 않고 백그라운드 프로세스로 실행되는 컴퓨터 프로그램입니다. '\n",
      "                           '일반적으로 데몬의 프로세스 이름은 문자 d로 끝나는데, 이는 해당 프로세스가 실제로 '\n",
      "                           '데몬임을 명확히 하고 데몬과 일반 컴퓨터 프로그램을 구분하기 위한 것입니다. 예를 들어, '\n",
      "                           'syslogd는 시스템 로깅 기능을 구현하는 데몬이고, sshd는 들어오는 SSH 연결을 '\n",
      "                           '서비스하는 데몬입니다.'}]}\n"
     ]
    }
   ],
   "source": [
    "texts = [\n",
    "    \"In multitasking computer operating systems, a daemon (/\\u02c8di\\u02d0m\\u0259n/ or /\\u02c8de\\u026am\\u0259n/) is a computer program that runs as a background process, rather than being under the direct control of an interactive user. Traditionally, the process names of a daemon end with the letter d, for clarification that the process is in fact a daemon, and for differentiation between a daemon and a normal computer program. For example, syslogd is a daemon that implements system logging facility, and sshd is a daemon that serves incoming SSH connections.\"\n",
    "]\n",
    "\n",
    "req_deepl(texts)"
   ]
  },
  {
   "cell_type": "code",
   "execution_count": 7,
   "metadata": {},
   "outputs": [],
   "source": [
    "translated_word_data = []\n",
    "\n",
    "split_size = 50\n",
    "\n",
    "word_data_splited = [word_data[i:i+split_size]\n",
    "                     for i in range(0, len(word_data), split_size)]\n",
    "\n",
    "for splited in word_data_splited:\n",
    "    texts = []\n",
    "    for word in splited:\n",
    "        texts.append(word['word_name_en'])\n",
    "        texts.append(word['word_def'])\n",
    "\n",
    "    response_data = req_deepl(texts)\n",
    "\n",
    "    for i in range(0, len(response_data), 2):\n",
    "        dt = response_data[i]\n",
    "        dd = response_data[i + 1]\n",
    "        translated_word_data.append({\n",
    "            'word_name_kr': dt['text'],\n",
    "            'word_def': dd['text']\n",
    "        })"
   ]
  },
  {
   "cell_type": "code",
   "execution_count": 11,
   "metadata": {},
   "outputs": [
    {
     "name": "stdout",
     "output_type": "stream",
     "text": [
      "[{'word_name_kr': '추상 데이터 유형(ADT)',\n",
      "  'word_name_en': 'abstract data type (ADT)',\n",
      "  'word_def': '데이터 유형이 데이터 사용자 관점에서의 동작(의미론)에 의해 정의되는 데이터 유형에 대한 수학적 모델로, 특히 '\n",
      "              '가능한 값, 이 유형의 데이터에 대해 가능한 연산 및 이러한 연산의 동작 측면에서 정의됩니다. 이는 사용자가 아닌 '\n",
      "              '구현자의 관점에서 데이터를 구체적으로 표현한 데이터 구조와는 대조적입니다.',\n",
      "  'word_link': 'https://en.wikipedia.org/wiki/Abstract_data_type'},\n",
      " {'word_name_kr': '추상 메서드',\n",
      "  'word_name_en': 'abstract method',\n",
      "  'word_def': '서명만 있고 구현 본문이 없는 메서드. 서브클래스가 메서드의 구현을 제공해야 한다는 것을 지정하는 데 자주 '\n",
      "              '사용됩니다. 추상 메서드는 일부 컴퓨터 언어에서 인터페이스를 지정하는 데 사용됩니다.',\n",
      "  'word_link': 'https://en.wikipedia.org/wiki/Abstract_method'},\n",
      " {'word_name_kr': '추상화',\n",
      "  'word_name_en': 'abstraction',\n",
      "  'word_def': '1.  소프트웨어 공학 및 컴퓨터 과학에서 사물이나 시스템을 연구할 때 물리적, 공간적 또는 시간적 세부 사항이나 '\n",
      "              '속성을 제거하여 다른 관심 있는 세부 사항에 더 집중하는 과정으로, 일반화 과정과도 본질적으로 매우 유사합니다.',\n",
      "  'word_link': 'https://en.wikipedia.org/wiki/Abstraction_(software_engineering)'}]\n"
     ]
    }
   ],
   "source": [
    "word_translated_link = []\n",
    "\n",
    "for word, translated in zip(word_data, translated_word_data):\n",
    "    word_translated_link.append({\n",
    "        'word_name_kr': translated['word_name_kr'],\n",
    "        'word_name_en': word['word_name_en'],\n",
    "        'word_def': translated['word_def'],\n",
    "        'word_link': word['word_link']\n",
    "    })\n",
    "\n",
    "pprint(word_translated_link[:3], sort_dicts=False)"
   ]
  },
  {
   "cell_type": "code",
   "execution_count": 12,
   "metadata": {},
   "outputs": [],
   "source": [
    "with open(\"word_translated_link.json\", \"w\") as f:\n",
    "    json.dump(word_translated_link, f, indent=2)"
   ]
  },
  {
   "cell_type": "markdown",
   "metadata": {},
   "source": [
    "- 사용량 확인"
   ]
  },
  {
   "cell_type": "code",
   "execution_count": 13,
   "metadata": {},
   "outputs": [
    {
     "name": "stdout",
     "output_type": "stream",
     "text": [
      "{'character_count': 380734, 'character_limit': 500000}\n"
     ]
    }
   ],
   "source": [
    "pprint(\n",
    "    requests.get(\n",
    "        url=\"https://api-free.deepl.com/v2/usage\",\n",
    "        headers={\n",
    "            \"Authorization\": f\"DeepL-Auth-Key {os.getenv('DEEPL_API_KEY')}\",\n",
    "        }\n",
    "    ).json(),\n",
    "    sort_dicts=False\n",
    ")"
   ]
  }
 ],
 "metadata": {
  "kernelspec": {
   "display_name": "venv",
   "language": "python",
   "name": "python3"
  },
  "language_info": {
   "codemirror_mode": {
    "name": "ipython",
    "version": 3
   },
   "file_extension": ".py",
   "mimetype": "text/x-python",
   "name": "python",
   "nbconvert_exporter": "python",
   "pygments_lexer": "ipython3",
   "version": "3.10.12"
  }
 },
 "nbformat": 4,
 "nbformat_minor": 2
}
